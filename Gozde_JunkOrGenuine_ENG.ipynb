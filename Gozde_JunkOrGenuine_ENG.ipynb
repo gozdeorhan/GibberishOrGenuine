{
 "cells": [
  {
   "cell_type": "markdown",
   "metadata": {},
   "source": [
    "#### > 24/04/2020\n",
    "### > Gozde Orhan"
   ]
  },
  {
   "cell_type": "markdown",
   "metadata": {},
   "source": [
    "# Word classifier - Genuine or Gibberish? (ENG)     "
   ]
  },
  {
   "cell_type": "markdown",
   "metadata": {},
   "source": [
    "This project is done in order to propose a solution to distinguish junk words from genuine words. The algorithm works based on **4 rules** and utilizes a .csv file as a genuine English word dictionary. The algorithm has an average accuracy rate of **84.68%**, which is significantly high.\n",
    "\n",
    "### Rules ###\n",
    "\n",
    "- If a word contains non-alpha character after leading and trailing characters are removed, it is junk.\n",
    "- If a word contains *4 or more* consecutive vowels or consonants, it is junk.\n",
    "- If the median of probabilities of two consecutive letters being consecutive is *greater* than the thereshold, the word is genuine.\n",
    "- If the median of probabilities of two consecutive letters being consecutive is *less* than the thereshold **and** the median of euclidean distances of consecutive letters are less than the thereshold, the word is junk."
   ]
  },
  {
   "cell_type": "markdown",
   "metadata": {},
   "source": [
    "## Required packages"
   ]
  },
  {
   "cell_type": "code",
   "execution_count": 1,
   "metadata": {},
   "outputs": [],
   "source": [
    "#Import required packages\n",
    "import numpy as np\n",
    "import pandas as pd\n",
    "from math import sqrt #imported to take square root of a number\n",
    "import statistics #imported to find the median values\n",
    "import re #regular experession, imported to find if a string has whitespace"
   ]
  },
  {
   "cell_type": "markdown",
   "metadata": {},
   "source": [
    "## Initializations"
   ]
  },
  {
   "cell_type": "code",
   "execution_count": 2,
   "metadata": {},
   "outputs": [],
   "source": [
    "#List vowels to be used for vowel-consonant rule\n",
    "vowels = [\"a\",\"e\",\"i\",\"o\",\"u\"]\n",
    "\n",
    "#Define keyboard layout as a matrix to be used for distance rule\n",
    "keyboard = [[\"q\",\"w\",\"e\",\"r\",\"t\",\"y\",\"u\",\"i\",\"o\",\"p\"],\n",
    "           [\"a\",\"s\",\"d\",\"f\",\"g\",\"h\",\"j\",\"k\",\"l\",\" \"],\n",
    "           [\" \",\"z\",\"x\",\"c\",\"v\",\"b\",\"n\",\"m\",\" \",\" \"]]\n",
    "\n",
    "#Initialize probability matrix\n",
    "probTable = np.zeros(shape=(26,26)) \n",
    "\n",
    "#Create a alphabet dictionary\n",
    "dict_alph = {\"a\":0,\"b\":1,\"c\":2,\"d\":3,\"e\":4,\"f\":5,\n",
    "            \"g\":6,\"h\":7,\"i\":8,\"j\":9,\"k\":10,\"l\":11,\n",
    "            \"m\":12,\"n\":13,\"o\":14,\"p\":15,\"q\": 16,\"r\":17,\n",
    "            \"s\":18,\"t\":19,\"u\":20,\"v\":21,\"w\":22,\"x\":23,\n",
    "            \"y\":24,\"z\":25}\n",
    "\n",
    "#Create a reversed version of the above dictionary\n",
    "rev_dict = {0:\"a\",1:\"b\",2:\"c\",3:\"d\",4:\"e\",5:\"f\",\n",
    "           6:\"g\",7:\"h\",8:\"i\",9:\"j\",10:\"k\",11:\"l\",\n",
    "           12:\"m\",13:\"n\",14:\"o\",15:\"p\",16:\"q\",17:\"r\",\n",
    "           18:\"s\",19:\"t\",20:\"u\",21:\"v\",22:\"w\", 23:\"x\",\n",
    "           24:\"y\", 25:\"z\"}"
   ]
  },
  {
   "cell_type": "markdown",
   "metadata": {},
   "source": [
    "## Pre-processing"
   ]
  },
  {
   "cell_type": "code",
   "execution_count": 3,
   "metadata": {},
   "outputs": [],
   "source": [
    "#A function to read and process genuine word data\n",
    "def ENGdataRead():\n",
    "    \n",
    "    initial_dataset = pd.read_csv('Dictionary_English.csv', keep_default_na=False)\n",
    "    \n",
    "    #Drop row if string contains whitespace\n",
    "    for i in range(len(initial_dataset)):\n",
    "        \n",
    "        st = initial_dataset.at[i,'Words']\n",
    "        \n",
    "        if bool(re.search(r\"\\s\", st)) == True:\n",
    "            initial_dataset = initial_dataset.drop([i]) \n",
    "            \n",
    "    #Shuffle data to avoid bias may occur due to ordering of words\n",
    "    initial_dataset = initial_dataset.sample(frac=1)\n",
    "    #Reset index of dataset\n",
    "    initial_dataset = initial_dataset.reset_index(drop=True)\n",
    "    \n",
    "    #Designate 80% of genuine word data as 'training set'\n",
    "    index = round((len(initial_dataset))*0.8)\n",
    "    dataset = initial_dataset.iloc[0:index]\n",
    "    \n",
    "    #Designate 20% of genuine word data as 'test set'\n",
    "    test = initial_dataset.iloc[index:len(initial_dataset)+1]\n",
    "    \n",
    "    #Get words in an array to be used in other functions\n",
    "    testData = np.asarray(test[\"Words\"])\n",
    "    listData = np.asarray(initial_dataset[\"Words\"])\n",
    "\n",
    "    return listData, testData"
   ]
  },
  {
   "cell_type": "markdown",
   "metadata": {},
   "source": [
    "## Rules"
   ]
  },
  {
   "cell_type": "code",
   "execution_count": 4,
   "metadata": {},
   "outputs": [],
   "source": [
    "#A function to check whether a string includes 4 or more consecutive vowels or consonants\n",
    "def checkVowelsCons(word):\n",
    "    \n",
    "    countVowels = 0\n",
    "    countCons = 0\n",
    "    stat = True\n",
    "    \n",
    "    for i in range (len(word)):\n",
    "        \n",
    "        if(word[i] not in vowels): #count consecutive consonants\n",
    "            countVowels=0\n",
    "            countCons+=1\n",
    "            \n",
    "            if(countCons==4):\n",
    "                stat= False\n",
    "                \n",
    "        else:\n",
    "            countVowels+=1 #count consecutive vowels\n",
    "            countCons = 0\n",
    "            \n",
    "            if(countVowels==4):\n",
    "                stat=False\n",
    "    return stat"
   ]
  },
  {
   "cell_type": "code",
   "execution_count": 5,
   "metadata": {},
   "outputs": [],
   "source": [
    "#A function to create a probability matrix 23x23 (alphabetxalphabet) and fill\n",
    "#with the observed probabilities of two letters coming consecutively, through the help of .csv language data\n",
    "\n",
    "def updateProbTable(dataset): #.csv lang data as an input\n",
    "    \n",
    "    #Create 26x26 matrix\n",
    "    for i in range(26):\n",
    "        \n",
    "        main = rev_dict[i]\n",
    "        temp = np.zeros(shape=(26))\n",
    "        \n",
    "        #Update occurences\n",
    "        for word in dataset:\n",
    "            for j in range(len(word)-1): \n",
    "                if(word[j] == main):\n",
    "                    temp[dict_alph[word[j+1]]]+=1\n",
    "        \n",
    "        #A variable for a single letter, sum of observations\n",
    "        sumRepeat = sum(temp)\n",
    "        \n",
    "        if(sumRepeat!=0):\n",
    "            for k in range(len(temp)):\n",
    "                temp[k]=temp[k]/sumRepeat #observed probability\n",
    "                \n",
    "        probTable[i]=temp\n",
    "\n",
    "#A function to keep a probability array belongs to a word, finds the median value\n",
    "def checkProbs(letter):\n",
    "    \n",
    "    k = []\n",
    "    \n",
    "    for i in range (len(letter)-1): \n",
    "        \n",
    "        temp = probTable[dict_alph[letter[i]], dict_alph[letter[i+1]]] #get prob values from matrix\n",
    "        k.append(temp) #append array\n",
    "        \n",
    "    med_stat = statistics.median(k)\n",
    "            \n",
    "    return med_stat"
   ]
  },
  {
   "cell_type": "code",
   "execution_count": 6,
   "metadata": {},
   "outputs": [],
   "source": [
    "#A function to get letters position on keyboard as (x,y)\n",
    "def findPos(letter):\n",
    "    \n",
    "    posX=- 1 \n",
    "    posY=-1\n",
    "    \n",
    "    for i in range(3):\n",
    "        for j in range(10):\n",
    "            if(letter == keyboard[i][j]): #use initialized matrix keyboard layout\n",
    "                \n",
    "                posX = j\n",
    "                posY = i\n",
    "                \n",
    "    return posX,posY\n",
    "\n",
    "#A function to calculate euclidean distance between two consecutive letters in a word\n",
    "def findDistance(l1,l2):\n",
    "    \n",
    "    x1, y1 = findPos(l1) #call findPos function\n",
    "    x2, y2 = findPos(l2) #call findPos function\n",
    "    dist = sqrt((x1-x2)**2 + (y1-y2)**2) #euclidean distance formula\n",
    "    \n",
    "    return dist\n",
    "\n",
    "#A function to create an array consists of distance values and find the median value\n",
    "def findMedDist(word):\n",
    "    \n",
    "    #initialize an empty array\n",
    "    k = []\n",
    "    \n",
    "    for i in range (len(word)-1):  \n",
    "        \n",
    "        temp = findDistance(word[i],word[i+1]) #call findDistance function\n",
    "        k.append(temp) #append the array to keep distance values in an array \n",
    "        \n",
    "    med_stat_dist = statistics.median(k) #find median\n",
    "    \n",
    "    return med_stat_dist"
   ]
  },
  {
   "cell_type": "markdown",
   "metadata": {},
   "source": [
    "## The set of rules - i.e. the Algorithm!"
   ]
  },
  {
   "cell_type": "code",
   "execution_count": 7,
   "metadata": {},
   "outputs": [],
   "source": [
    "#A function to execute all 4 rules to classify word as junk or genuine, takes disp as a boolean to print output\n",
    "def checkWord(word, disp):\n",
    "    \n",
    "    #Initialize a boolean, indicating class, false indicates junk word\n",
    "    result = False\n",
    "\n",
    "    #Declare thresholds\n",
    "    disThreshold = 2.5\n",
    "    probThreshold = 0.08\n",
    "    \n",
    "    #Get rid of whitespace for user input - we already did it for the dataset! :)\n",
    "    word = word.replace(\" \", \"\")\n",
    "    \n",
    "    #Create translator object to remove non-alpha\n",
    "    nonalpha = '''!()-[]{};:'\"\\,<>./?@£%€#$%^=+&*_~'''\n",
    "    word = word.strip(nonalpha)\n",
    "    \n",
    "    output=\"\"\n",
    "    \n",
    "    if word.isalpha()==False:\n",
    "        output= output+ \"Still contains non-alpha\"+\"\\n\"+\"Word:Junk\"+\"\\n\"\n",
    "\n",
    "    else:\n",
    "        if(checkVowelsCons(word)): #check vowel-consonant rule\n",
    "            output= output+ \"checkVowelsCons True\"+\"\\n\"\n",
    "\n",
    "            if(checkProbs(word)>probThreshold): #check probability rule\n",
    "                output= output+ \"checkProbs True\"+\"\\n\"+\"Word:Genuine\"+\"\\n\"\n",
    "                result = True\n",
    "            else:\n",
    "                output= output+ \"checkProbs False\"+\"\\n\"\n",
    "\n",
    "                if(findMedDist(word)>disThreshold): #check distance rule\n",
    "                    output= output+ \"findMedDist True\"+\"\\n\"+\"Word: Genuine\"+\"\\n\"\n",
    "                    result = True\n",
    "                else:\n",
    "                    output=output+\"findMedDist False\"+\"\\n\"+\" Word:Junk\"\n",
    "        else:\n",
    "            output=output+\"checkVowelsCons False\"+\"\\n\"+\"Word:Junk\"\n",
    "    if disp:\n",
    "        print(output)\n",
    "    return result"
   ]
  },
  {
   "cell_type": "markdown",
   "metadata": {},
   "source": [
    "## Testing - Evaluation"
   ]
  },
  {
   "cell_type": "markdown",
   "metadata": {},
   "source": [
    "- Algorithm is demonstrating a significant success since it uses an exhaustive set of rules. \n",
    "- Algorithm utilizes a small dictionary which jeopardizes the performance of the algorithm. It could be improved.\n",
    "- Thereshold declaration is a challenging task.\n",
    "- Short words are not much informative and thus hard to classify, rules may be improved to attain greater success in classification."
   ]
  },
  {
   "cell_type": "code",
   "execution_count": 8,
   "metadata": {},
   "outputs": [],
   "source": [
    "#A function to validate the algorithm with the test data which we know only includes genuine words\n",
    "def evaluation(testData):\n",
    "    \n",
    "    count_gen = 0\n",
    "    count_junk = 0\n",
    "    \n",
    "    for i in testData:\n",
    "        result = checkWord(i, False)\n",
    "        if result == False: #if algorithm classifies word as junk (i.e returns false)\n",
    "            count_junk+=1 #count words classified as junk\n",
    "        else:\n",
    "            count_gen+=1 #count words classified as genuine\n",
    "        \n",
    "    accuracy = (count_gen/len(testData))*100 #calculate accuracy\n",
    "    print('Accuracy on test set:', accuracy)"
   ]
  },
  {
   "cell_type": "code",
   "execution_count": 9,
   "metadata": {},
   "outputs": [
    {
     "name": "stdout",
     "output_type": "stream",
     "text": [
      "Accuracy on test set: 85.66812831756289\n"
     ]
    }
   ],
   "source": [
    "#Read lang data\n",
    "listData, testData = ENGdataRead()\n",
    "\n",
    "#Create probability matrix - learning phase\n",
    "updateProbTable(listData)\n",
    "\n",
    "#Run algorithm on the testData which algorithm never encountered before\n",
    "#Prints accuracy - check bottom!\n",
    "evaluation(testData)"
   ]
  },
  {
   "cell_type": "markdown",
   "metadata": {},
   "source": [
    "## Now it's your turn to test! Enjoy! :)"
   ]
  },
  {
   "cell_type": "code",
   "execution_count": 10,
   "metadata": {},
   "outputs": [
    {
     "name": "stdout",
     "output_type": "stream",
     "text": [
      "Enter word to predict:\n",
      "@@hello)\n",
      "checkVowelsCons True\n",
      "checkProbs True\n",
      "Word:Genuine\n",
      "\n",
      " \n",
      "Enter word to predict:\n",
      "brown\n",
      "checkVowelsCons True\n",
      "checkProbs False\n",
      "findMedDist True\n",
      "Word: Genuine\n",
      "\n",
      " \n",
      "Enter word to predict:\n",
      "backpack\n",
      "checkVowelsCons True\n",
      "checkProbs True\n",
      "Word:Genuine\n",
      "\n",
      " \n",
      "Enter word to predict:\n",
      "ajdaojsd\n",
      "checkVowelsCons True\n",
      "checkProbs False\n",
      "findMedDist True\n",
      "Word: Genuine\n",
      "\n",
      " \n",
      "Enter word to predict:\n",
      "alkssdsd\n",
      "checkVowelsCons False\n",
      "Word:Junk\n",
      " \n",
      "Enter word to predict:\n",
      "desktop\n",
      "checkVowelsCons True\n",
      "checkProbs False\n",
      "findMedDist False\n",
      " Word:Junk\n",
      " \n",
      "Enter word to predict:\n",
      "warehouse\n",
      "checkVowelsCons True\n",
      "checkProbs True\n",
      "Word:Genuine\n",
      "\n",
      " \n",
      "Enter word to predict:\n",
      "ocean\n",
      "checkVowelsCons True\n",
      "checkProbs False\n",
      "findMedDist True\n",
      "Word: Genuine\n",
      "\n",
      " \n",
      "Enter word to predict:\n",
      "lkujgi\n",
      "checkVowelsCons True\n",
      "checkProbs False\n",
      "findMedDist False\n",
      " Word:Junk\n",
      " \n",
      "Enter word to predict:\n",
      "blue\n",
      "checkVowelsCons True\n",
      "checkProbs False\n",
      "findMedDist True\n",
      "Word: Genuine\n",
      "\n",
      " \n"
     ]
    }
   ],
   "source": [
    "#Interactive block of code enables users to enter their own words for algorithm to classify :)\n",
    "\n",
    "#Read lang data\n",
    "listData, testData = ENGdataRead()\n",
    "\n",
    "#Create probability matrix - learning phase\n",
    "updateProbTable(listData)\n",
    "\n",
    "#Allow users to enter 10 words, run code again if further testing required\n",
    "\n",
    "count = 0\n",
    "valid = True\n",
    "\n",
    "while valid==True:\n",
    "        word = input('Enter word to predict:\\n') #take input\n",
    "        checkWord(word, True) #call checkWord function\n",
    "        print(' ')\n",
    "        count+=1\n",
    "        if count==10:\n",
    "            valid = False"
   ]
  },
  {
   "cell_type": "code",
   "execution_count": null,
   "metadata": {},
   "outputs": [],
   "source": []
  }
 ],
 "metadata": {
  "kernelspec": {
   "display_name": "Python 3",
   "language": "python",
   "name": "python3"
  },
  "language_info": {
   "codemirror_mode": {
    "name": "ipython",
    "version": 3
   },
   "file_extension": ".py",
   "mimetype": "text/x-python",
   "name": "python",
   "nbconvert_exporter": "python",
   "pygments_lexer": "ipython3",
   "version": "3.7.7"
  }
 },
 "nbformat": 4,
 "nbformat_minor": 4
}
